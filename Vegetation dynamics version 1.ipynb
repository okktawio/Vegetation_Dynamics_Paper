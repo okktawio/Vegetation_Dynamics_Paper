{
 "cells": [
  {
   "cell_type": "code",
   "execution_count": 1,
   "metadata": {},
   "outputs": [
    {
     "name": "stdout",
     "output_type": "stream",
     "text": [
      "%pylab is deprecated, use %matplotlib inline and import the required libraries.\n",
      "Populating the interactive namespace from numpy and matplotlib\n"
     ]
    },
    {
     "name": "stderr",
     "output_type": "stream",
     "text": [
      "/tmp/ipykernel_1483657/1024220006.py:2: DeprecationWarning: Importing display from IPython.core.display is deprecated since IPython 7.14, please import from IPython display\n",
      "  from IPython.core.display import display, HTML\n"
     ]
    },
    {
     "data": {
      "text/html": [
       "<style>.container { width:100% !important; }</style>"
      ],
      "text/plain": [
       "<IPython.core.display.HTML object>"
      ]
     },
     "metadata": {},
     "output_type": "display_data"
    }
   ],
   "source": [
    "%pylab inline\n",
    "from IPython.core.display import display, HTML\n",
    "display(HTML(\"<style>.container { width:100% !important; }</style>\"))\n",
    "set_printoptions(linewidth=300, threshold=200000, suppress=True, precision = 8)\n"
   ]
  },
  {
   "cell_type": "code",
   "execution_count": 2,
   "metadata": {},
   "outputs": [],
   "source": [
    "figsize(16,9)\n",
    "\n",
    "def plant_biomass_logistic(dt, NB, p):\n",
    "    NB[...] = clip(NB, 0, 1e9)\n",
    "    rn, rb, B0, Kb, eta, Si, H, L = p\n",
    "    N, B = NB\n",
    "    #print(N, B, Si, rn, B/N, B0, B/N - B0, rn * (B / N - B0) * N)\n",
    "    dN = rn * (B / N - B0) * N + Si\n",
    "    dB = rb * (N/(eta + N)) * B * (1 - B / Kb) - H - L\n",
    "    return array([dN, dB]) * dt\n",
    "\n",
    "def plant_biomass_logistic_lv(dt, NB, p):\n",
    "    NB[...] = clip(NB, 0, 1e9)\n",
    "    rn, rb, B0, Kb, eta, Si, H, L, rnw, rbw, B0w, Kbw, etaw, c, cw = p\n",
    "    N, B, Nw, Bw = NB\n",
    "    #print(N, B, Si, rn, B/N, B0, B/N - B0, rn * (B / N - B0) * N)\n",
    "    dN = rn * (B / N - B0) * N + Si\n",
    "    dB = rb * (N/(eta + N)) * B * (1 - B / (Kb - c * Bw)) - H - L\n",
    "    dNw = rnw * (Bw / Nw - B0w) * Nw\n",
    "    dBw = rbw * (Nw/(eta + Nw)) * Bw * (1 - Bw / (Kbw - cw * B))\n",
    "    return array([dN, dB, dNw, dBw]) * dt\n",
    "\n",
    "def rk4(f, dt, y, p):\n",
    "    dx = dt\n",
    "    k1 = f(dx, y, p)\n",
    "    k2 = f(dx, y + k1 / 2, p)\n",
    "    k3 = f(dx, y + k2 / 2, p)\n",
    "    k4 = f(dx, y + k3, p)\n",
    "    return y + (k1 + 2 * k2 + 2 * k3 + k4) / 6\n",
    "\n",
    "\n",
    "def simula(funcion, nt = 120, dt = 1e-3, N = 1, B = 1, rn = 0.1, rb = 0.1, B0 = 1.0, Kb = 10, eta = 0, Si = 0, H = 0, L = 0):\n",
    "    #punto critico en Kb/2\n",
    "    #por defecto el maximo de extraccion (dbmax) es 0.1 * 10 / 2 = 0.5\n",
    "    #pero con el termino de MM, eta > 0,  es 0.1 * 10 / 2 * (1 / (eta + 1))\n",
    "    #con eta = 1, dbmax es igual a 0.25\n",
    "    t = arange(0, nt, dt)\n",
    "    N = array([N, B])\n",
    "    M = zeros((t.shape[0], N.shape[0] + 1))\n",
    "    Kb = zeros_like(t) + Kb\n",
    "\n",
    "    M[:,-1] = t\n",
    "    for i in range(t.shape[0]):\n",
    "        M[i,:-1] = N\n",
    "        N = clip(rk4(funcion, dt, N, (rn, rb, B0, Kb[i], eta, Si, H, L)), 0, 1e99)\n",
    "    return M\n",
    "\n",
    "def simula_lv(funcion, nt = 120, dt = 1e-3, N = 10, B = 10, rn = 0.1, rb = 0.1, B0 = 1.0, Kb = 10, eta = 1, Si = 0, H = 0, L = 0,\n",
    "              Nw = 10, Bw = 10, rnw = 0.05, rbw = 0.04, B0w = 1, Kbw = 10, etaw = 1, c = 1, cw = 1):\n",
    "    t = arange(0, nt, dt)\n",
    "    N = array([N, B, Nw, Bw])\n",
    "    M = zeros((t.shape[0], N.shape[0] + 1))\n",
    "    Kb = zeros_like(t) + Kb\n",
    "    \n",
    "    M[:,-1] = t\n",
    "    for i in range(t.shape[0]):\n",
    "        M[i,:] = N\n",
    "        N = clip(rk4(funcion, dt, N, (rn, rb, B0, Kb[i], eta, Si, H, L, rnw, rbw, B0w, Kbw, etaw, c, cw)), 0, 1e99)\n",
    "    return M"
   ]
  },
  {
   "cell_type": "code",
   "execution_count": null,
   "metadata": {},
   "outputs": [],
   "source": []
  }
 ],
 "metadata": {
  "kernelspec": {
   "display_name": "Python 3 (ipykernel)",
   "language": "python",
   "name": "python3"
  },
  "language_info": {
   "codemirror_mode": {
    "name": "ipython",
    "version": 3
   },
   "file_extension": ".py",
   "mimetype": "text/x-python",
   "name": "python",
   "nbconvert_exporter": "python",
   "pygments_lexer": "ipython3",
   "version": "3.11.1"
  }
 },
 "nbformat": 4,
 "nbformat_minor": 4
}
